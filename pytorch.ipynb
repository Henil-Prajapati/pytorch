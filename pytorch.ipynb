{
  "nbformat": 4,
  "nbformat_minor": 0,
  "metadata": {
    "colab": {
      "provenance": []
    },
    "kernelspec": {
      "name": "python3",
      "display_name": "Python 3"
    },
    "language_info": {
      "name": "python"
    }
  },
  "cells": [
    {
      "cell_type": "markdown",
      "source": [
        "## \"Exploring the Power of PyTorch: Your Gateway to Cutting-Edge AI Innovation!\""
      ],
      "metadata": {
        "id": "w7jW-yjv7DCD"
      }
    },
    {
      "cell_type": "markdown",
      "source": [
        "This code imports the necessary modules for working with PyTorch, defining neural networks, handling datasets, and performing image transformations.\n"
      ],
      "metadata": {
        "id": "lqwcYAFW3LFe"
      }
    },
    {
      "cell_type": "code",
      "execution_count": 1,
      "metadata": {
        "id": "wcsDmNFpw60Z"
      },
      "outputs": [],
      "source": [
        "import torch      # Import the main PyTorch library\n",
        "\n",
        "from torch import nn  # Import the neural network module from PyTorch\n",
        "\n",
        "from torch.utils.data import dataloader  # Import the DataLoader class from PyTorch to handle batching of data\n",
        "\n",
        "from torchvision import datasets # Import the datasets module from torchvision to access common datasets\n",
        "\n",
        "from torchvision.transforms import ToTensor #Import the ToTensor transformation to convert images to tensor format\n",
        "\n",
        "import matplotlib.pyplot as plt\n",
        "\n"
      ]
    },
    {
      "cell_type": "markdown",
      "source": [
        "**ToTensor format** : an image in tensor format is represented as a 3D tensor with dimensions (channels, height, width), where:\n",
        "\n",
        "Channels: The number of color channels (e.g., 1 for grayscale, 3 for RGB).\n",
        "Height: The number of pixels in the vertical direction.\n",
        "Width: The number of pixels in the horizontal direction."
      ],
      "metadata": {
        "id": "SQUbMcUB31gt"
      }
    },
    {
      "cell_type": "markdown",
      "source": [
        "PyTorch offers domain-specific libraries such as TorchText, TorchVision, and TorchAudio, all of which include datasets. For this tutorial, we will be using a TorchVision dataset."
      ],
      "metadata": {
        "id": "UvJqxifQ4CNT"
      }
    },
    {
      "cell_type": "code",
      "source": [
        "# Download training data from open datasets.\n",
        "training_data = datasets.FashionMNIST(\n",
        "    root=\"data\",                  #Specifies the directory where the dataset will be stored (or is already stored).\n",
        "    train=True,\n",
        "    download=True,\n",
        "    transform=ToTensor()\n",
        ")\n",
        "\n",
        "# Download test data from open datasets.\n",
        "test_data = datasets.FashionMNIST(\n",
        "    root=\"data\",\n",
        "    train=False,\n",
        "    download=True,\n",
        "    transform=ToTensor()\n",
        ")"
      ],
      "metadata": {
        "id": "4rBywxxx2Rbl",
        "colab": {
          "base_uri": "https://localhost:8080/"
        },
        "outputId": "3d2b8057-a6f8-4c6a-e9e8-b3164bfd89dc"
      },
      "execution_count": 2,
      "outputs": [
        {
          "output_type": "stream",
          "name": "stdout",
          "text": [
            "Downloading http://fashion-mnist.s3-website.eu-central-1.amazonaws.com/train-images-idx3-ubyte.gz\n",
            "Downloading http://fashion-mnist.s3-website.eu-central-1.amazonaws.com/train-images-idx3-ubyte.gz to data/FashionMNIST/raw/train-images-idx3-ubyte.gz\n"
          ]
        },
        {
          "output_type": "stream",
          "name": "stderr",
          "text": [
            "100%|██████████| 26.4M/26.4M [00:01<00:00, 16.7MB/s]\n"
          ]
        },
        {
          "output_type": "stream",
          "name": "stdout",
          "text": [
            "Extracting data/FashionMNIST/raw/train-images-idx3-ubyte.gz to data/FashionMNIST/raw\n",
            "\n",
            "Downloading http://fashion-mnist.s3-website.eu-central-1.amazonaws.com/train-labels-idx1-ubyte.gz\n",
            "Downloading http://fashion-mnist.s3-website.eu-central-1.amazonaws.com/train-labels-idx1-ubyte.gz to data/FashionMNIST/raw/train-labels-idx1-ubyte.gz\n"
          ]
        },
        {
          "output_type": "stream",
          "name": "stderr",
          "text": [
            "100%|██████████| 29.5k/29.5k [00:00<00:00, 273kB/s]\n"
          ]
        },
        {
          "output_type": "stream",
          "name": "stdout",
          "text": [
            "Extracting data/FashionMNIST/raw/train-labels-idx1-ubyte.gz to data/FashionMNIST/raw\n",
            "\n",
            "Downloading http://fashion-mnist.s3-website.eu-central-1.amazonaws.com/t10k-images-idx3-ubyte.gz\n",
            "Downloading http://fashion-mnist.s3-website.eu-central-1.amazonaws.com/t10k-images-idx3-ubyte.gz to data/FashionMNIST/raw/t10k-images-idx3-ubyte.gz\n"
          ]
        },
        {
          "output_type": "stream",
          "name": "stderr",
          "text": [
            "100%|██████████| 4.42M/4.42M [00:00<00:00, 4.96MB/s]\n"
          ]
        },
        {
          "output_type": "stream",
          "name": "stdout",
          "text": [
            "Extracting data/FashionMNIST/raw/t10k-images-idx3-ubyte.gz to data/FashionMNIST/raw\n",
            "\n",
            "Downloading http://fashion-mnist.s3-website.eu-central-1.amazonaws.com/t10k-labels-idx1-ubyte.gz\n",
            "Downloading http://fashion-mnist.s3-website.eu-central-1.amazonaws.com/t10k-labels-idx1-ubyte.gz to data/FashionMNIST/raw/t10k-labels-idx1-ubyte.gz\n"
          ]
        },
        {
          "output_type": "stream",
          "name": "stderr",
          "text": [
            "100%|██████████| 5.15k/5.15k [00:00<00:00, 13.9MB/s]"
          ]
        },
        {
          "output_type": "stream",
          "name": "stdout",
          "text": [
            "Extracting data/FashionMNIST/raw/t10k-labels-idx1-ubyte.gz to data/FashionMNIST/raw\n",
            "\n"
          ]
        },
        {
          "output_type": "stream",
          "name": "stderr",
          "text": [
            "\n"
          ]
        }
      ]
    },
    {
      "cell_type": "markdown",
      "source": [
        "Iterating and Visualizing the Dataset\n"
      ],
      "metadata": {
        "id": "WOSzDOUG4qK7"
      }
    },
    {
      "cell_type": "markdown",
      "source": [
        "We can index Datasets manually like a list: training_data[index]. We use matplotlib to visualize some samples in our training data.\n",
        "\n"
      ],
      "metadata": {
        "id": "gMftBJ_54wc_"
      }
    },
    {
      "cell_type": "code",
      "source": [
        "#it maps the label (which is a number from 0 to 9) to its corresponding clothing category\n",
        "labels_map = {\n",
        "    0: \"T-Shirt\",\n",
        "    1: \"Trouser\",\n",
        "    2: \"Pullover\",\n",
        "    3: \"Dress\",\n",
        "    4: \"Coat\",\n",
        "    5: \"Sandal\",\n",
        "    6: \"Shirt\",\n",
        "    7: \"Sneaker\",\n",
        "    8: \"Bag\",\n",
        "    9: \"Ankle Boot\",\n",
        "}\n",
        "\n",
        "\n",
        "\n",
        "figure = plt.figure(figsize = (8,8)) #figure with a size of 8x8 inches where images will be plotted.\n",
        "\n",
        "#grid dimension\n",
        "cols, rows = 3, 3 #The cols and rows define a 3x3 grid, meaning the code will display 9 images in total.\n",
        "\n",
        "for i in range(1 , cols * rows + 1):\n",
        "    sample_idx = torch.randint(len(training_data), size = (1,)).item() #Generates a random integer within the range [0, len(training_data)-1].\n",
        "                                                                       #size=(1,): Specifies the shape of the output tensor (a single-element tensor in this case).\n",
        "                                                                       #.item(): Converts the single-element tensor to a Python integer.\n",
        "\n",
        "\n",
        "    img , label = training_data[sample_idx] #This retrieves an image and its corresponding label from the training_data at the randomly selected index\n",
        "\n",
        "    figure.add_subplot(rows, cols, i)\n",
        "    plt.title(labels_map[label])    #Maps the label (label) to its corresponding category name using labels_map.\n",
        "    plt.axis(\"off\")                 #Removes the x-axis and y-axis from the subplot, focusing only on the image.\n",
        "    plt.imshow(img.squeeze(), cmap = \"gray\") #img.squeeze() = removes single dimensional entries\n",
        "plt.show()\n"
      ],
      "metadata": {
        "colab": {
          "base_uri": "https://localhost:8080/",
          "height": 675
        },
        "id": "2wfGW4UD4Jsy",
        "outputId": "6d98ee7d-498b-4028-bcaa-987cce9cd740"
      },
      "execution_count": 3,
      "outputs": [
        {
          "output_type": "display_data",
          "data": {
            "text/plain": [
              "<Figure size 800x800 with 9 Axes>"
            ],
            "image/png": "[encoded data removed]"
          },
          "metadata": {}
        }
      ]
    },
    {
      "cell_type": "markdown",
      "source": [
        "Creating a Custom Dataset for your files\n"
      ],
      "metadata": {
        "id": "C6wpYfnxtJYs"
      }
    },
    {
      "cell_type": "markdown",
      "source": [
        "A custom Dataset class must implement three functions: __init__, __len__, and __getitem__. Take a look at this implementation; the FashionMNIST images are stored in a directory img_dir, and their labels are stored separately in a CSV file annotations_file"
      ],
      "metadata": {
        "id": "WsT1os6btLHn"
      }
    },
    {
      "cell_type": "code",
      "source": [
        "import os                               #way to interact with the operating system.\n",
        "import pandas as pd\n",
        "from torchvision.io import read_image   #read_image is a utility function used to read an image file and load it as a PyTorch tensor.\n",
        "from torch.utils.data import Dataset   # Import Dataset\n",
        "\n",
        "class CustomImageDataset(Dataset):\n",
        "  def __init__(self , annotation_file , img_dir , transform=None , target_transform = None):    # It initializes the dataset\n",
        "    self.img_labels = pd.read_csv(annotation_file)                                              #self is a reference to the current instance of the class\n",
        "    self.img_dir = img_dir\n",
        "    self.transform = transform\n",
        "    self.target_transform = target_transform\n",
        "\n",
        "  def __len__(self):    #The __len__ method returns the total number of samples in the dataset.\n",
        "    return len(self.img_labels)\n",
        "\n",
        "  def __getitem__(self , idx):  #The __getitem__ method is called to retrieve a specific sample (image and label) from the dataset based on the given index (idx).\n",
        "    img_path: os.path.join(self.img_dir, self.img_labels.iloc[idx, 0])\n",
        "    image = read_image(img_path)\n",
        "    label = self.img_labels.iloc[idx, 1]\n",
        "\n",
        "\n",
        "    #If a transformation function for images (transform) is provided, it is applied to the image.\n",
        "    #If a transformation function for labels (target_transform) is provided, it is applied to the label.\n",
        "    if self.transform:\n",
        "      image = self.transform(image)\n",
        "    if self.target_transform:\n",
        "      label = self.target_transform(label)\n",
        "    return image, label\n"
      ],
      "metadata": {
        "id": "XW-z-KAB4y0a"
      },
      "execution_count": 4,
      "outputs": []
    },
    {
      "cell_type": "markdown",
      "source": [
        "## Preparing your data for training with DataLoaders"
      ],
      "metadata": {
        "id": "yHjYecQfxyq6"
      }
    },
    {
      "cell_type": "markdown",
      "source": [
        "The Dataset retrieves our dataset’s features and labels one sample at a time. While training a model, we typically want to pass samples in “minibatches”, reshuffle the data at every epoch to reduce model overfitting, and use Python’s multiprocessing to speed up data retrieval.\n",
        "\n",
        "DataLoader is an iterable that abstracts this complexity for us in an easy API."
      ],
      "metadata": {
        "id": "bHuMjjdHx0M9"
      }
    },
    {
      "cell_type": "code",
      "source": [
        "from torch.utils.data import DataLoader #DataLoader: A PyTorch utility for loading datasets in an efficient manner.\n",
        "\n",
        "train_dataloader = DataLoader(training_data , batch_size = 64 , shuffle = True)     #A dataset object, typically created using torchvision.datasets or a custom dataset class (like CustomImageDataset\n",
        "test_dataloader = DataLoader(test_data , batch_size = 64 , shuffle = True)"
      ],
      "metadata": {
        "id": "M5eooqDWvl78"
      },
      "execution_count": 5,
      "outputs": []
    },
    {
      "cell_type": "markdown",
      "source": [
        "# Iterate through the DataLoader"
      ],
      "metadata": {
        "id": "RTzm-xDOyU2G"
      }
    },
    {
      "cell_type": "markdown",
      "source": [
        "We have loaded that dataset into the DataLoader and can iterate through the dataset as needed. Each iteration below returns a batch of train_features and train_labels (containing batch_size=64 features and labels respectively). Because we specified shuffle=True, after we iterate over all batches the data is shuffled (for finer-grained control over the data loading order, take a look at Samplers)."
      ],
      "metadata": {
        "id": "Rw-hEO95yWU7"
      }
    },
    {
      "cell_type": "code",
      "source": [
        "#to display an image from the training data and its corresponding label.\n",
        "\n",
        "train_features, train_labels = next(iter(train_dataloader))   #this retrieves the next batch of data from the train_dataloader\n",
        "print(f\"Feature batch shape: {train_features.size()}\")\n",
        "print(f\"Labels batch shape: {train_labels.size()}\")\n",
        "img = train_features[0].squeeze()                             #.squeeze(): This removes any dimensions of size 1. For example, if the image has the shape [1, 28, 28] (which means it's a grayscale image with 1 channel), .squeeze() will convert it to a 2D array of shape [28, 28] (removes the channel dimension)\n",
        "label = train_labels[0]\n",
        "plt.imshow(img, cmap=\"gray\")\n",
        "plt.show()\n",
        "print(f\"Label: {label}\")"
      ],
      "metadata": {
        "colab": {
          "base_uri": "https://localhost:8080/",
          "height": 482
        },
        "id": "mq09MUCfyKv0",
        "outputId": "d81cc7e1-ea2b-4ed7-f6dd-cffd34017517"
      },
      "execution_count": 6,
      "outputs": [
        {
          "output_type": "stream",
          "name": "stdout",
          "text": [
            "Feature batch shape: torch.Size([64, 1, 28, 28])\n",
            "Labels batch shape: torch.Size([64])\n"
          ]
        },
        {
          "output_type": "display_data",
          "data": {
            "text/plain": [
              "<Figure size 640x480 with 1 Axes>"
            ],
            "image/png": "[encoded data removed]"
          },
          "metadata": {}
        },
        {
          "output_type": "stream",
          "name": "stdout",
          "text": [
            "Label: 7\n"
          ]
        }
      ]
    },
    {
      "cell_type": "markdown",
      "source": [
        "### **Transforms**"
      ],
      "metadata": {
        "id": "EpPg3dxZ280f"
      }
    },
    {
      "cell_type": "markdown",
      "source": [
        "Data does not always come in its final processed form that is required for training machine learning algorithms. We use transforms to perform some manipulation of the data and make it suitable for training.\n",
        "\n",
        "All TorchVision datasets have two parameters -transform to modify the features and target_transform to modify the labels - that accept callables containing the transformation logic. The torchvision.transforms module offers several commonly-used transforms out of the box.\n",
        "\n",
        "The FashionMNIST features are in PIL Image format, and the labels are integers. For training, we need the features as normalized tensors, and the labels as one-hot encoded tensors. To make these transformations, we use ToTensor and Lambda."
      ],
      "metadata": {
        "id": "7deKP0dC3C8h"
      }
    },
    {
      "cell_type": "code",
      "source": [
        "import torch\n",
        "from torchvision import datasets\n",
        "from torchvision.transforms import ToTensor , Lambda\n",
        "\n",
        "#ToTensor: A transformation that converts images to PyTorch tensors and scales pixel values from [0, 255] to [0.0, 1.0].\n",
        "#Lambda: Allows you to define custom transformations using Python's lambda function or a custom callable.\n",
        "\n",
        "\n",
        "ds = datasets.FashionMNIST(\n",
        "    root = \"data\" , #Specifies the directory (\"data\") where the dataset will be downloaded and stored.\n",
        "    train = True ,  #Indicates whether to load the training set (True) or the test set (False\n",
        "    download = True , #f the dataset is not already present in the root directory, it will be downloaded automatically.\n",
        "    transform = ToTensor() ,  # Image transformation : Converts the image to a PyTorch tensor and scales pixel values from [0, 255] (integers) to [0.0, 1.0] (floating point).\n",
        "\n",
        "    target_transform = Lambda(lambda y : torch.zeros(10 , dtype = torch.float).scatter_(0 , torch.tensor(y) , value = 1))\n",
        "\n",
        "    #Label Transformation: target_transform=Lambda(...)\n",
        "    #Applies a custom transformation to the labels\n",
        "    #One-Hot Encoding Logic torch.zeros(10, dtype=torch.float)\n",
        "\n",
        "    #The .scatter_ function updates the tensor by placing a value (1) at a specified index (the label y).\n",
        "    #Arguments: 0: The dimension along which to scatter (here, along the single dimension of the vector).\n",
        "    #torch.tensor(y): The index where the value 1 will be placed.\n",
        "    #value=1: The value to insert at the specified index.\n",
        "  )"
      ],
      "metadata": {
        "id": "vQapsHx4ycfr"
      },
      "execution_count": 7,
      "outputs": []
    },
    {
      "cell_type": "markdown",
      "source": [
        "Lambda Transforms\n",
        "Lambda transforms apply any user-defined lambda function. Here, we define a function to turn the integer into a one-hot encoded tensor. It first creates a zero tensor of size 10 (the number of labels in our dataset) and calls scatter_ which assigns a value=1 on the index as given by the label y."
      ],
      "metadata": {
        "id": "CliVoPbZAphK"
      }
    },
    {
      "cell_type": "code",
      "source": [
        "target_transform = Lambda(lambda y: torch.zeros(\n",
        "    10, dtype=torch.float).scatter_(dim=0, index=torch.tensor(y), value=1))"
      ],
      "metadata": {
        "id": "uFoBXOdUAl1A"
      },
      "execution_count": 8,
      "outputs": []
    },
    {
      "cell_type": "markdown",
      "source": [
        "## Build the Neural Network"
      ],
      "metadata": {
        "id": "9CK0Lri6Avho"
      }
    },
    {
      "cell_type": "markdown",
      "source": [
        "Neural networks comprise of layers/modules that perform operations on data. The torch.nn namespace provides all the building blocks you need to build your own neural network. Every module in PyTorch subclasses the nn.Module. A neural network is a module itself that consists of other modules (layers). This nested structure allows for building and managing complex architectures easily."
      ],
      "metadata": {
        "id": "5aoWGnfVA0Rr"
      }
    },
    {
      "cell_type": "code",
      "source": [
        "import os\n",
        "import torch\n",
        "from torch import nn\n",
        "from torch.utils.data import DataLoader\n",
        "from torchvision import datasets, transforms"
      ],
      "metadata": {
        "id": "sbWqtPf9ArUp"
      },
      "execution_count": 9,
      "outputs": []
    },
    {
      "cell_type": "markdown",
      "source": [
        "**Get Device for Training**\n"
      ],
      "metadata": {
        "id": "PiEeoxu2A4dQ"
      }
    },
    {
      "cell_type": "markdown",
      "source": [
        "We want to be able to train our model on a hardware accelerator like the GPU or MPS, if available. Let’s check to see if torch.cuda or torch.backends.mps are available, otherwise we use the CPU."
      ],
      "metadata": {
        "id": "CW4Ri13NA_yj"
      }
    },
    {
      "cell_type": "code",
      "source": [
        "device = (\n",
        "    \"cuda\"  # CUDA-enabled GPU\n",
        "    if torch.cuda.is_available()  # Check if a CUDA-capable GPU is available\n",
        "    else \"mps\"  # Metal Performance Shaders for macOS\n",
        "    if torch.backends.mps.is_available()  # Check if MPS is supported\n",
        "    else \"cpu\"  # Default to CPU if no GPU options are available\n",
        ")\n"
      ],
      "metadata": {
        "id": "VsRsmovYA2Cr"
      },
      "execution_count": 10,
      "outputs": []
    },
    {
      "cell_type": "markdown",
      "source": [
        "Define the Class\n",
        "**bold text**"
      ],
      "metadata": {
        "id": "uUYoCFQdBEPb"
      }
    },
    {
      "cell_type": "markdown",
      "source": [
        "We define our neural network by subclassing nn.Module, and initialize the neural network layers in __init__. Every nn.Module subclass implements the operations on input data in the forward method."
      ],
      "metadata": {
        "id": "w_Nu2jkWBH4w"
      }
    },
    {
      "cell_type": "code",
      "source": [
        "class NeuralNetwork(nn.Module): #NeuralNetwork: Defines the custom neural network class. nn.Module: Base class for all neural networks in PyTorch. By inheriting from nn.Module, your class can take advantage of PyTorch's built-in functionalities\n",
        "    def __init__(self):         #__init__: The constructor initializes the layers and components of the neural network.\n",
        "        super().__init__()      # Calls the constructor of the parent class (nn.Module) to initialize built-in properties.\n",
        "        self.flatten = nn.Flatten() #Converts a multi-dimensional tensor into a 1D tensor, which is required for fully connected layers.\n",
        "\n",
        "        self.linear_relu_stack = nn.Sequential(   #nn.Sequential: Combines multiple layers into a single pipeline.\n",
        "            nn.Linear(28*28, 512),                # A fully connected (dense) layer with 784 input features (28x28 pixels) and 512 output features.\n",
        "            nn.ReLU(),\n",
        "            nn.Linear(512, 512),                  #Another fully connected layer, mapping 512 input features to 512 output features.\n",
        "            nn.ReLU(),                            # ReLU activation for non-linearity.\n",
        "            nn.Linear(512, 10),                   #A final fully connected layer mapping 512 features to 10 output features\n",
        "        )\n",
        "\n",
        "    def forward(self, x):     #Purpose: Defines the forward pass of the neural network,\n",
        "        x = self.flatten(x)   #Flattens the input tensor\n",
        "        logits = self.linear_relu_stack(x)  #Passes the flattened input through the sequential stack of layers.\n",
        "        return logits\n",
        "\n",
        "      #Flatten : Flattening an input tensor means converting its multi-dimensional structure into a single-dimensional (1D) vector. This transformation is often necessary before passing the data to fully connected layers"
      ],
      "metadata": {
        "id": "JxbOYQP-BBq0"
      },
      "execution_count": 11,
      "outputs": []
    },
    {
      "cell_type": "markdown",
      "source": [
        "We create an instance of NeuralNetwork, and move it to the device, and print its structure.\n",
        "\n"
      ],
      "metadata": {
        "id": "5SKRNyQqBppY"
      }
    },
    {
      "cell_type": "code",
      "source": [
        "model = NeuralNetwork().to(device)\n",
        "print(model)"
      ],
      "metadata": {
        "colab": {
          "base_uri": "https://localhost:8080/"
        },
        "id": "ddHDmEHhBRrb",
        "outputId": "e1fe5cce-43b7-4bea-f951-fcc6aef7f9cb"
      },
      "execution_count": 12,
      "outputs": [
        {
          "output_type": "stream",
          "name": "stdout",
          "text": [
            "NeuralNetwork(\n",
            "  (flatten): Flatten(start_dim=1, end_dim=-1)\n",
            "  (linear_relu_stack): Sequential(\n",
            "    (0): Linear(in_features=784, out_features=512, bias=True)\n",
            "    (1): ReLU()\n",
            "    (2): Linear(in_features=512, out_features=512, bias=True)\n",
            "    (3): ReLU()\n",
            "    (4): Linear(in_features=512, out_features=10, bias=True)\n",
            "  )\n",
            ")\n"
          ]
        }
      ]
    },
    {
      "cell_type": "markdown",
      "source": [
        "To use the model, we pass it the input data. This executes the model’s forward, along with some background operations. Do not call model.forward() directly!To use the model, we pass it the input data. This executes the model’s forward, along with some background operations. Do not call model.forward() directly!"
      ],
      "metadata": {
        "id": "tTyjGXfdCZEt"
      }
    },
    {
      "cell_type": "markdown",
      "source": [
        "Calling the model on the input returns a 2-dimensional tensor with dim=0 corresponding to each output of 10 raw predicted values for each class, and dim=1 corresponding to the individual values of each output. We get the prediction probabilities by passing it through an instance of the nn.Softmax module"
      ],
      "metadata": {
        "id": "QQeH_atvCb4b"
      }
    },
    {
      "cell_type": "code",
      "source": [
        "X = torch.rand(1, 28, 28, device=device)  #1: Batch size (1 image).  28, 28: Dimensions of the grayscale image (height × width).\n",
        "logits = model(X)   #Passes the input tensor X through the neural network.\n",
        "pred_probab = nn.Softmax(dim=1)(logits)  #Applies the softmax function along dim=1 (class dimension) to convert logits into probabilities.\n",
        "\n",
        "y_pred = pred_probab.argmax(1)  #Finds the index of the maximum value (highest probability) along dim=1 (class dimension).\n",
        "print(f\"Predicted class: {y_pred}\")"
      ],
      "metadata": {
        "colab": {
          "base_uri": "https://localhost:8080/"
        },
        "id": "IZpSzoQXBs3o",
        "outputId": "29516b33-fb08-4017-8bf6-d03ee3ce23a7"
      },
      "execution_count": 13,
      "outputs": [
        {
          "output_type": "stream",
          "name": "stdout",
          "text": [
            "Predicted class: tensor([3])\n"
          ]
        }
      ]
    },
    {
      "cell_type": "markdown",
      "source": [
        "# Model Layers"
      ],
      "metadata": {
        "id": "xGMhrm-4C8us"
      }
    },
    {
      "cell_type": "markdown",
      "source": [
        "Let’s break down the layers in the FashionMNIST model. To illustrate it, we will take a sample minibatch of 3 images of size 28x28 and see what happens to it as we pass it through the network./\n"
      ],
      "metadata": {
        "id": "14d98ECzDAMh"
      }
    },
    {
      "cell_type": "code",
      "source": [
        "#Generates a tensor with random values sampled uniformly from the range [0, 1).\n",
        "# Shape:\n",
        "# 3: Represents 3 channels (e.g., RGB image channels: Red, Green, and Blue).\n",
        "# 28, 28: Dimensions of the image (height × width).\n",
        "\n",
        "\n",
        "input_image = torch.rand(3,28,28)\n",
        "print(input_image.size())"
      ],
      "metadata": {
        "colab": {
          "base_uri": "https://localhost:8080/"
        },
        "id": "di3Wg17lCdew",
        "outputId": "5c07748d-9a48-4821-d480-0f5268d8f052"
      },
      "execution_count": 14,
      "outputs": [
        {
          "output_type": "stream",
          "name": "stdout",
          "text": [
            "torch.Size([3, 28, 28])\n"
          ]
        }
      ]
    },
    {
      "cell_type": "markdown",
      "source": [
        "## nn.Flatten"
      ],
      "metadata": {
        "id": "1MCioGlIDqad"
      }
    },
    {
      "cell_type": "markdown",
      "source": [
        "We initialize the nn.Flatten layer to convert each 2D 28x28 image into a contiguous array of 784 pixel values ( the minibatch dimension (at dim=0) is maintained)."
      ],
      "metadata": {
        "id": "dvVvsDj1DsNs"
      }
    },
    {
      "cell_type": "code",
      "source": [
        "flatten = nn.Flatten()\n",
        "flat_image = flatten(input_image)\n",
        "print(flat_image.size())"
      ],
      "metadata": {
        "colab": {
          "base_uri": "https://localhost:8080/"
        },
        "id": "TSGlxutGDu16",
        "outputId": "2c076143-63de-49e9-b685-e24769125e29"
      },
      "execution_count": 15,
      "outputs": [
        {
          "output_type": "stream",
          "name": "stdout",
          "text": [
            "torch.Size([3, 784])\n"
          ]
        }
      ]
    },
    {
      "cell_type": "markdown",
      "source": [
        "nn.linear"
      ],
      "metadata": {
        "id": "b3DFnG5MDcbg"
      }
    },
    {
      "cell_type": "markdown",
      "source": [
        "The linear layer is a module that applies a linear transformation on the input using its stored weights and biases.\n",
        "\n"
      ],
      "metadata": {
        "id": "UqkGrRQIDgby"
      }
    },
    {
      "cell_type": "code",
      "source": [
        "\n",
        "layer1 = nn.Linear(in_features=28*28, out_features=20)\n",
        "hidden1 = layer1(flat_image)\n",
        "print(hidden1.size())"
      ],
      "metadata": {
        "colab": {
          "base_uri": "https://localhost:8080/"
        },
        "id": "H6F81bN9DB7k",
        "outputId": "b0de6b1b-2232-4979-c866-1af7ef4b7db3"
      },
      "execution_count": 16,
      "outputs": [
        {
          "output_type": "stream",
          "name": "stdout",
          "text": [
            "torch.Size([3, 20])\n"
          ]
        }
      ]
    },
    {
      "cell_type": "markdown",
      "source": [
        "nn.Linear\n"
      ],
      "metadata": {
        "id": "XxzNaNL3Dz7N"
      }
    },
    {
      "cell_type": "markdown",
      "source": [
        "The linear layer is a module that applies a linear transformation on the input using its stored weights and biases.\n",
        "\n"
      ],
      "metadata": {
        "id": "xcqcS8GID1aT"
      }
    },
    {
      "cell_type": "code",
      "source": [
        "layer1 = nn.Linear(in_features=28*28, out_features=20)\n",
        "hidden1 = layer1(flat_image)\n",
        "print(hidden1.size())"
      ],
      "metadata": {
        "colab": {
          "base_uri": "https://localhost:8080/"
        },
        "id": "Dv7iW4ShDzph",
        "outputId": "ad3b9adc-6116-4bda-899f-8257ddee838f"
      },
      "execution_count": 17,
      "outputs": [
        {
          "output_type": "stream",
          "name": "stdout",
          "text": [
            "torch.Size([3, 20])\n"
          ]
        }
      ]
    },
    {
      "cell_type": "markdown",
      "source": [
        "nn.ReLU\n"
      ],
      "metadata": {
        "id": "JvczmeXbD5Xq"
      }
    },
    {
      "cell_type": "markdown",
      "source": [
        "Non-linear activations are what create the complex mappings between the model’s inputs and outputs. They are applied after linear transformations to introduce nonlinearity, helping neural networks learn a wide variety of phenomena.\n",
        "\n"
      ],
      "metadata": {
        "id": "mVL3TlS1D60j"
      }
    },
    {
      "cell_type": "code",
      "source": [
        "print(f\"Before ReLU: {hidden1}\\n\\n\")\n",
        "hidden1 = nn.ReLU()(hidden1)\n",
        "print(f\"After ReLU: {hidden1}\")"
      ],
      "metadata": {
        "colab": {
          "base_uri": "https://localhost:8080/"
        },
        "id": "jfOortlwDjG5",
        "outputId": "7b91baee-8eeb-40ec-c28c-73a5cd60f7b4"
      },
      "execution_count": 18,
      "outputs": [
        {
          "output_type": "stream",
          "name": "stdout",
          "text": [
            "Before ReLU: tensor([[-0.2656, -0.2760,  0.3216,  0.7349, -0.2036, -0.1986,  0.2548, -0.2904,\n",
            "         -0.0181, -0.3882,  0.4613,  0.2939,  0.5148,  0.7957,  0.2398,  0.0475,\n",
            "          0.2289,  0.4614, -0.1487,  0.0892],\n",
            "        [ 0.0573, -0.2764,  0.3165, -0.0457,  0.0597,  0.0850,  0.2382, -0.1147,\n",
            "          0.2204, -0.4711,  0.2913, -0.1037,  0.3084,  0.0535,  0.2697,  0.0868,\n",
            "          0.0529,  0.9342, -0.3401,  0.2202],\n",
            "        [-0.2326,  0.1704,  0.5622, -0.0200, -0.2035, -0.0992,  0.3246,  0.1339,\n",
            "         -0.1360, -0.1471,  0.3751,  0.1008,  0.7118,  0.4472,  0.3668, -0.1956,\n",
            "          0.5070,  0.6951, -0.2238, -0.0111]], grad_fn=<AddmmBackward0>)\n",
            "\n",
            "\n",
            "After ReLU: tensor([[0.0000, 0.0000, 0.3216, 0.7349, 0.0000, 0.0000, 0.2548, 0.0000, 0.0000,\n",
            "         0.0000, 0.4613, 0.2939, 0.5148, 0.7957, 0.2398, 0.0475, 0.2289, 0.4614,\n",
            "         0.0000, 0.0892],\n",
            "        [0.0573, 0.0000, 0.3165, 0.0000, 0.0597, 0.0850, 0.2382, 0.0000, 0.2204,\n",
            "         0.0000, 0.2913, 0.0000, 0.3084, 0.0535, 0.2697, 0.0868, 0.0529, 0.9342,\n",
            "         0.0000, 0.2202],\n",
            "        [0.0000, 0.1704, 0.5622, 0.0000, 0.0000, 0.0000, 0.3246, 0.1339, 0.0000,\n",
            "         0.0000, 0.3751, 0.1008, 0.7118, 0.4472, 0.3668, 0.0000, 0.5070, 0.6951,\n",
            "         0.0000, 0.0000]], grad_fn=<ReluBackward0>)\n"
          ]
        }
      ]
    },
    {
      "cell_type": "markdown",
      "source": [
        "nn.Sequential\n"
      ],
      "metadata": {
        "id": "Sp-9K17AD_iX"
      }
    },
    {
      "cell_type": "markdown",
      "source": [
        "nn.Sequential is an ordered container of modules. The data is passed through all the modules in the same order as defined. You can use sequential containers to put together a quick network like seq_modules.\n",
        "\n"
      ],
      "metadata": {
        "id": "08fkJ6QTEBjP"
      }
    },
    {
      "cell_type": "code",
      "source": [
        "seq_modules = nn.Sequential(    #Combines multiple layers or operations into a single pipeline. Each operation is executed in sequence.\n",
        "    flatten,              # Flattens the input tensor (e.g., from [batch_size, 28, 28] to [batch_size, 784]).\n",
        "    layer1,               # A predefined layer or module (e.g., a fully connected layer).\n",
        "    nn.ReLU(),            # Applies the ReLU activation function to introduce non-linearity.\n",
        "    nn.Linear(20, 10)     # A linear layer that transforms inputs of size 20 into outputs of size 10.\n",
        ")\n",
        "input_image = torch.rand(3,28,28)     #Generates a random tensor with shape [3, 28, 28]  where 3 : batch_Size and 28*28 : dimensions of each image\n",
        "logits = seq_modules(input_image)     #  The random tensor input_image is passed through the seq_modules model:\n"
      ],
      "metadata": {
        "id": "eEYWoGvxD81Y"
      },
      "execution_count": 19,
      "outputs": []
    },
    {
      "cell_type": "markdown",
      "source": [
        "nn.Softmax\n"
      ],
      "metadata": {
        "id": "xC-7BCXMEEws"
      }
    },
    {
      "cell_type": "markdown",
      "source": [
        "The last linear layer of the neural network returns logits - raw values in [-infty, infty] - which are passed to the nn.Softmax module. The logits are scaled to values [0, 1] representing the model’s predicted probabilities for each class. dim parameter indicates the dimension along which the values must sum to 1.\n",
        "\n",
        "\n"
      ],
      "metadata": {
        "id": "kQFTYHPrEGCE"
      }
    },
    {
      "cell_type": "code",
      "source": [
        "softmax = nn.Softmax(dim=1)\n",
        "pred_probab = softmax(logits)"
      ],
      "metadata": {
        "id": "uKV8c_yOEDNQ"
      },
      "execution_count": 20,
      "outputs": []
    },
    {
      "cell_type": "markdown",
      "source": [
        "Model Parameters\n"
      ],
      "metadata": {
        "id": "5vOvpHfMEJSE"
      }
    },
    {
      "cell_type": "markdown",
      "source": [
        "Many layers inside a neural network are parameterized, i.e. have associated weights and biases that are optimized during training. Subclassing nn.Module automatically tracks all fields defined inside your model object, and makes all parameters accessible using your model’s parameters() or named_parameters() methods.\n",
        "\n"
      ],
      "metadata": {
        "id": "3bNHQZlSEK2k"
      }
    },
    {
      "cell_type": "code",
      "source": [
        "print(f\"Model structure: {model}\\n\\n\")\n",
        "\n",
        "for name, param in model.named_parameters():      #Returns an iterator over the model’s learnable parameters. Each item is a tuple containing:\n",
        "  print(f\"Layer: {name} | Size: {param.size()} | Values : {param[:2]} \\n\")     #name: The parameter's name (e.g., weight or bias for a specific layer).\n",
        "                                                                                # param: The parameter tensor itself."
      ],
      "metadata": {
        "colab": {
          "base_uri": "https://localhost:8080/"
        },
        "id": "MucLP19mEH6V",
        "outputId": "b5e81761-9790-42ec-8e7c-0bcb950d0ac1"
      },
      "execution_count": 23,
      "outputs": [
        {
          "output_type": "stream",
          "name": "stdout",
          "text": [
            "Model structure: NeuralNetwork(\n",
            "  (flatten): Flatten(start_dim=1, end_dim=-1)\n",
            "  (linear_relu_stack): Sequential(\n",
            "    (0): Linear(in_features=784, out_features=512, bias=True)\n",
            "    (1): ReLU()\n",
            "    (2): Linear(in_features=512, out_features=512, bias=True)\n",
            "    (3): ReLU()\n",
            "    (4): Linear(in_features=512, out_features=10, bias=True)\n",
            "  )\n",
            ")\n",
            "\n",
            "\n",
            "Layer: linear_relu_stack.0.weight | Size: torch.Size([512, 784]) | Values : tensor([[ 5.5959e-03,  9.7222e-03,  1.4769e-02,  ..., -6.0110e-03,\n",
            "         -3.1045e-02, -2.6030e-02],\n",
            "        [-2.1888e-02,  5.1490e-05,  1.1945e-02,  ...,  8.6687e-03,\n",
            "          3.5184e-02,  3.1080e-02]], grad_fn=<SliceBackward0>) \n",
            "\n",
            "Layer: linear_relu_stack.0.bias | Size: torch.Size([512]) | Values : tensor([0.0151, 0.0217], grad_fn=<SliceBackward0>) \n",
            "\n",
            "Layer: linear_relu_stack.2.weight | Size: torch.Size([512, 512]) | Values : tensor([[ 0.0258,  0.0083, -0.0226,  ..., -0.0333,  0.0262,  0.0055],\n",
            "        [-0.0339, -0.0407, -0.0128,  ...,  0.0202,  0.0003,  0.0381]],\n",
            "       grad_fn=<SliceBackward0>) \n",
            "\n",
            "Layer: linear_relu_stack.2.bias | Size: torch.Size([512]) | Values : tensor([-0.0241,  0.0038], grad_fn=<SliceBackward0>) \n",
            "\n",
            "Layer: linear_relu_stack.4.weight | Size: torch.Size([10, 512]) | Values : tensor([[-0.0128,  0.0113, -0.0080,  ...,  0.0143, -0.0224, -0.0347],\n",
            "        [ 0.0141, -0.0257, -0.0052,  ..., -0.0247, -0.0047,  0.0207]],\n",
            "       grad_fn=<SliceBackward0>) \n",
            "\n",
            "Layer: linear_relu_stack.4.bias | Size: torch.Size([10]) | Values : tensor([-0.0377, -0.0358], grad_fn=<SliceBackward0>) \n",
            "\n"
          ]
        }
      ]
    },
    {
      "cell_type": "markdown",
      "source": [
        "Automatic Differentiation with torch.autograd\n"
      ],
      "metadata": {
        "id": "mQxz6nM6HbWW"
      }
    },
    {
      "cell_type": "markdown",
      "source": [
        "When training neural networks, the most frequently used algorithm is back propagation. In this algorithm, parameters (model weights) are adjusted according to the gradient of the loss function with respect to the given parameter.\n",
        "\n",
        " **To compute those gradients, PyTorch has a built-in differentiation engine called torch.autograd.** It supports automatic computation of gradient for any computational graph.\n",
        "\n",
        "Consider the simplest one-layer neural network, with input x, parameters w and b, and some loss function. It can be defined in PyTorch in the following manner:"
      ],
      "metadata": {
        "id": "BNH5fEvaHmgz"
      }
    },
    {
      "cell_type": "code",
      "source": [
        "import torch\n",
        "\n",
        "x = torch.ones(5)  # input tensor\n",
        "y = torch.zeros(3)  # expected output\n",
        "w = torch.randn(5, 3, requires_grad=True)\n",
        "b = torch.randn(3, requires_grad=True)\n",
        "z = torch.matmul(x, w)+b\n",
        "loss = torch.nn.functional.binary_cross_entropy_with_logits(z, y)"
      ],
      "metadata": {
        "id": "lSC9X-yjHkeK"
      },
      "execution_count": 24,
      "outputs": []
    },
    {
      "cell_type": "markdown",
      "source": [
        "A function that we apply to tensors to construct computational graph is in fact an object of class Function. This object knows how to compute the function in the forward direction, and also how to compute its derivative during the backward propagation step. A reference to the backward propagation function is stored in grad_fn property of a tenso"
      ],
      "metadata": {
        "id": "3bh05yu_x2Cz"
      }
    },
    {
      "cell_type": "code",
      "source": [
        "print(f\"Gradient function for z = {z.grad_fn}\")\n",
        "print(f\"Gradient function for loss = {loss.grad_fn}\")"
      ],
      "metadata": {
        "id": "H0fWbFalHoJo",
        "colab": {
          "base_uri": "https://localhost:8080/"
        },
        "outputId": "5212d222-515c-459c-e1e8-20e9a8a6fea2"
      },
      "execution_count": 25,
      "outputs": [
        {
          "output_type": "stream",
          "name": "stdout",
          "text": [
            "Gradient function for z = <AddBackward0 object at 0x7c60073797b0>\n",
            "Gradient function for loss = <BinaryCrossEntropyWithLogitsBackward0 object at 0x7c5ffa8d6710>\n"
          ]
        }
      ]
    },
    {
      "cell_type": "markdown",
      "source": [
        "**Computing Gradients**"
      ],
      "metadata": {
        "id": "WLC2nu7mx7Wq"
      }
    },
    {
      "cell_type": "markdown",
      "source": [
        "To compute those derivatives, we call loss.backward(), and then retrieve the values from w.grad and b.grad:"
      ],
      "metadata": {
        "id": "H5e0kUveyIND"
      }
    },
    {
      "cell_type": "code",
      "source": [
        "\n",
        "\n",
        "loss.backward()\n",
        "print(w.grad)\n",
        "print(b.grad)"
      ],
      "metadata": {
        "colab": {
          "base_uri": "https://localhost:8080/"
        },
        "id": "06jNOGOzx4oe",
        "outputId": "827dfbc6-8a74-4deb-b073-cd9bbc9775e4"
      },
      "execution_count": 26,
      "outputs": [
        {
          "output_type": "stream",
          "name": "stdout",
          "text": [
            "tensor([[0.0657, 0.1806, 0.3165],\n",
            "        [0.0657, 0.1806, 0.3165],\n",
            "        [0.0657, 0.1806, 0.3165],\n",
            "        [0.0657, 0.1806, 0.3165],\n",
            "        [0.0657, 0.1806, 0.3165]])\n",
            "tensor([0.0657, 0.1806, 0.3165])\n"
          ]
        }
      ]
    },
    {
      "cell_type": "markdown",
      "source": [
        "# Disabling Gradient Tracking\n"
      ],
      "metadata": {
        "id": "_-ZBIUEyyaL_"
      }
    },
    {
      "cell_type": "markdown",
      "source": [
        "By default, all tensors with requires_grad=True are tracking their computational history and support gradient computation. However, there are some cases when we do not need to do that, for example, when we have trained the model and just want to apply it to some input data, i.e. we only want to do forward computations through the network. We can stop tracking computations by surrounding our computation code with torch.no_grad() block"
      ],
      "metadata": {
        "id": "9fyl5EiUypWA"
      }
    },
    {
      "cell_type": "code",
      "source": [
        "z = torch.matmul(x, w)+b        #Computes a matrix multiplication between x and w using torch.matmul, followed by adding the bias b. creates a new tensor z.\n",
        "print(z.requires_grad)\n",
        "\n",
        "with torch.no_grad():\n",
        "    z = torch.matmul(x, w)+b\n",
        "print(z.requires_grad)"
      ],
      "metadata": {
        "colab": {
          "base_uri": "https://localhost:8080/"
        },
        "id": "_rVuA3TKyL9P",
        "outputId": "23c8d568-96c4-4ec5-cd22-a176f78091ac"
      },
      "execution_count": 28,
      "outputs": [
        {
          "output_type": "stream",
          "name": "stdout",
          "text": [
            "True\n",
            "False\n"
          ]
        }
      ]
    },
    {
      "cell_type": "markdown",
      "source": [
        "## Optimizing Model Parameters\n"
      ],
      "metadata": {
        "id": "Qg0lqCGTzeRY"
      }
    },
    {
      "cell_type": "markdown",
      "source": [
        "ow that we have a model and data it’s time to train, validate and test our model by optimizing its parameters on our data. Training a model is an iterative process; in each iteration the model makes a guess about the output, calculates the error in its guess (loss), collects the derivatives of the error with respect to its parameters (as we saw in the previous section), and optimizes these parameters using gradient descent."
      ],
      "metadata": {
        "id": "DF5SnhVmzmj4"
      }
    },
    {
      "cell_type": "code",
      "source": [
        "import torch\n",
        "from torch import nn\n",
        "from torch.utils.data import DataLoader\n",
        "from torchvision import datasets\n",
        "from torchvision.transforms import ToTensor\n",
        "\n",
        "training_data = datasets.FashionMNIST(\n",
        "    root=\"data\",\n",
        "    train=True,\n",
        "    download=True,\n",
        "    transform=ToTensor()\n",
        ")\n",
        "\n",
        "test_data = datasets.FashionMNIST(\n",
        "    root=\"data\",\n",
        "    train=False,\n",
        "    download=True,\n",
        "    transform=ToTensor()\n",
        ")\n",
        "\n",
        "train_dataloader = DataLoader(training_data, batch_size=64)\n",
        "test_dataloader = DataLoader(test_data, batch_size=64)\n",
        "\n",
        "class NeuralNetwork(nn.Module):\n",
        "    def __init__(self):\n",
        "        super().__init__()\n",
        "        self.flatten = nn.Flatten()\n",
        "        self.linear_relu_stack = nn.Sequential(\n",
        "            nn.Linear(28*28, 512),\n",
        "            nn.ReLU(),\n",
        "            nn.Linear(512, 512),\n",
        "            nn.ReLU(),\n",
        "            nn.Linear(512, 10),\n",
        "        )\n",
        "\n",
        "    def forward(self, x):\n",
        "        x = self.flatten(x)\n",
        "        logits = self.linear_relu_stack(x)\n",
        "        return logits\n",
        "\n",
        "model = NeuralNetwork()"
      ],
      "metadata": {
        "id": "E2M7iqJnynlC"
      },
      "execution_count": 29,
      "outputs": []
    },
    {
      "cell_type": "markdown",
      "source": [
        "## Hyperparameters"
      ],
      "metadata": {
        "id": "WSanKQl-0Dxl"
      }
    },
    {
      "cell_type": "markdown",
      "source": [
        "Hyperparameters are adjustable parameters that let you control the model optimization process. Different hyperparameter values can impact model training and convergence rates\n",
        "\n"
      ],
      "metadata": {
        "id": "jXz7svB50J7j"
      }
    },
    {
      "cell_type": "markdown",
      "source": [
        "We define the following hyperparameters for training:\n",
        "Number of Epochs - the number times to iterate over the dataset\n",
        "\n",
        "Batch Size - the number of data samples propagated through the network before the parameters are updated\n",
        "\n",
        "Learning Rate - how much to update models parameters at each batch/epoch. Smaller values yield slow learning speed, while large values may result in unpredictable behavior during training."
      ],
      "metadata": {
        "id": "L3EF4b7k0SsI"
      }
    },
    {
      "cell_type": "code",
      "source": [
        "learning_rate = 1e-3\n",
        "batch_size = 64\n",
        "epochs = 5"
      ],
      "metadata": {
        "id": "KmZ75DJd0AtV"
      },
      "execution_count": 30,
      "outputs": []
    },
    {
      "cell_type": "markdown",
      "source": [
        "## Optimization Loop"
      ],
      "metadata": {
        "id": "px3CEo2S0W7O"
      }
    },
    {
      "cell_type": "markdown",
      "source": [
        "Once we set our hyperparameters, we can then train and optimize our model with an optimization loop. Each iteration of the optimization loop is called an epoch."
      ],
      "metadata": {
        "id": "JU6CG8MP0afy"
      }
    },
    {
      "cell_type": "markdown",
      "source": [
        "Each epoch consists of two main parts:\n",
        "The Train Loop - iterate over the training dataset and try to converge to optimal parameters.\n",
        "\n",
        "The Validation/Test Loop - iterate over the test dataset to check if model performance is improving."
      ],
      "metadata": {
        "id": "HfFBvK320cNU"
      }
    },
    {
      "cell_type": "markdown",
      "source": [
        "Loss Function"
      ],
      "metadata": {
        "id": "CkSsLTid0nmS"
      }
    },
    {
      "cell_type": "markdown",
      "source": [
        "When presented with some training data, our untrained network is likely not to give the correct answer. Loss function measures the degree of dissimilarity of obtained result to the target value, and it is the loss function that we want to minimize during training. To calculate the loss we make a prediction using the inputs of our given data sample and compare it against the true data label value.\n",
        "\n"
      ],
      "metadata": {
        "id": "17Hvrvs60pxa"
      }
    },
    {
      "cell_type": "code",
      "source": [
        "# Initialize the loss function\n",
        "loss_fn = nn.CrossEntropyLoss()"
      ],
      "metadata": {
        "id": "Wr35Dyko0UoS"
      },
      "execution_count": 31,
      "outputs": []
    },
    {
      "cell_type": "markdown",
      "source": [
        "## Optimizer"
      ],
      "metadata": {
        "id": "OgO8ILoW0uL3"
      }
    },
    {
      "cell_type": "markdown",
      "source": [
        "Optimization is the process of adjusting model parameters to reduce model error in each training step. Optimization algorithms define how this process is performed (in this example we use Stochastic Gradient Descent). All optimization logic is encapsulated in the optimizer object. Here, we use the SGD optimizer; additionally, there are many different optimizers  in PyTorch such as ADAM and RMSProp, that work better for different kinds of models and data.\n"
      ],
      "metadata": {
        "id": "r8OxIWSt00mN"
      }
    },
    {
      "cell_type": "code",
      "source": [
        "optimizer = torch.optim.SGD(model.parameters(), lr=learning_rate)"
      ],
      "metadata": {
        "id": "aHNmgULw0r4r"
      },
      "execution_count": 33,
      "outputs": []
    },
    {
      "cell_type": "markdown",
      "source": [
        "##Full Implementation\n"
      ],
      "metadata": {
        "id": "966kwrOf08Hm"
      }
    },
    {
      "cell_type": "markdown",
      "source": [
        "We define train_loop that loops over our optimization code, and test_loop that evaluates the model’s performance against our test data.\n",
        "\n"
      ],
      "metadata": {
        "id": "m2n4KInB0_MK"
      }
    },
    {
      "cell_type": "code",
      "source": [
        "def train_loop(dataloader, model, loss_fn, optimizer):\n",
        "    size = len(dataloader.dataset)\n",
        "    # Set the model to training mode - important for batch normalization and dropout layers\n",
        "    # Unnecessary in this situation but added for best practices\n",
        "    model.train()\n",
        "    for batch, (X, y) in enumerate(dataloader):\n",
        "        # Compute prediction and loss\n",
        "        pred = model(X)\n",
        "        loss = loss_fn(pred, y)\n",
        "\n",
        "        # Backpropagation\n",
        "        loss.backward()\n",
        "        optimizer.step()\n",
        "        optimizer.zero_grad()\n",
        "\n",
        "        if batch % 100 == 0:\n",
        "            loss, current = loss.item(), batch * batch_size + len(X)\n",
        "            print(f\"loss: {loss:>7f}  [{current:>5d}/{size:>5d}]\")\n",
        "\n",
        "\n",
        "def test_loop(dataloader, model, loss_fn):\n",
        "    # Set the model to evaluation mode - important for batch normalization and dropout layers\n",
        "    # Unnecessary in this situation but added for best practices\n",
        "    model.eval()\n",
        "    size = len(dataloader.dataset)\n",
        "    num_batches = len(dataloader)\n",
        "    test_loss, correct = 0, 0\n",
        "\n",
        "    # Evaluating the model with torch.no_grad() ensures that no gradients are computed during test mode\n",
        "    # also serves to reduce unnecessary gradient computations and memory usage for tensors with requires_grad=True\n",
        "    with torch.no_grad():\n",
        "        for X, y in dataloader:\n",
        "            pred = model(X)\n",
        "            test_loss += loss_fn(pred, y).item()\n",
        "            correct += (pred.argmax(1) == y).type(torch.float).sum().item()\n",
        "\n",
        "    test_loss /= num_batches\n",
        "    correct /= size\n",
        "    print(f\"Test Error: \\n Accuracy: {(100*correct):>0.1f}%, Avg loss: {test_loss:>8f} \\n\")"
      ],
      "metadata": {
        "id": "-CfiZsA80y-w"
      },
      "execution_count": 34,
      "outputs": []
    },
    {
      "cell_type": "markdown",
      "source": [
        "We initialize the loss function and optimizer, and pass it to train_loop and test_loop. Feel free to increase the number of epochs to track the model’s improving performance.\n",
        "\n"
      ],
      "metadata": {
        "id": "I53q-t6b1Cwy"
      }
    },
    {
      "cell_type": "code",
      "source": [
        "loss_fn = nn.CrossEntropyLoss()\n",
        "optimizer = torch.optim.SGD(model.parameters(), lr=learning_rate)\n",
        "\n",
        "epochs = 10\n",
        "for t in range(epochs):\n",
        "    print(f\"Epoch {t+1}\\n-------------------------------\")\n",
        "    train_loop(train_dataloader, model, loss_fn, optimizer)\n",
        "    test_loop(test_dataloader, model, loss_fn)\n",
        "print(\"Done!\")"
      ],
      "metadata": {
        "colab": {
          "base_uri": "https://localhost:8080/"
        },
        "id": "TrsIijkf1EFF",
        "outputId": "e12bf1f2-3280-435c-8b02-46bc6fb62331"
      },
      "execution_count": 35,
      "outputs": [
        {
          "output_type": "stream",
          "name": "stdout",
          "text": [
            "Epoch 1\n",
            "-------------------------------\n",
            "loss: 2.300951  [   64/60000]\n",
            "loss: 2.292749  [ 6464/60000]\n",
            "loss: 2.278087  [12864/60000]\n",
            "loss: 2.273586  [19264/60000]\n",
            "loss: 2.245665  [25664/60000]\n",
            "loss: 2.220334  [32064/60000]\n",
            "loss: 2.226348  [38464/60000]\n",
            "loss: 2.195101  [44864/60000]\n",
            "loss: 2.190674  [51264/60000]\n",
            "loss: 2.163807  [57664/60000]\n",
            "Test Error: \n",
            " Accuracy: 46.5%, Avg loss: 2.152681 \n",
            "\n",
            "Epoch 2\n",
            "-------------------------------\n",
            "loss: 2.163327  [   64/60000]\n",
            "loss: 2.158810  [ 6464/60000]\n",
            "loss: 2.103109  [12864/60000]\n",
            "loss: 2.118223  [19264/60000]\n",
            "loss: 2.067440  [25664/60000]\n",
            "loss: 2.005073  [32064/60000]\n",
            "loss: 2.040590  [38464/60000]\n",
            "loss: 1.962305  [44864/60000]\n",
            "loss: 1.961133  [51264/60000]\n",
            "loss: 1.896121  [57664/60000]\n",
            "Test Error: \n",
            " Accuracy: 58.7%, Avg loss: 1.890208 \n",
            "\n",
            "Epoch 3\n",
            "-------------------------------\n",
            "loss: 1.924090  [   64/60000]\n",
            "loss: 1.903964  [ 6464/60000]\n",
            "loss: 1.783336  [12864/60000]\n",
            "loss: 1.820690  [19264/60000]\n",
            "loss: 1.709736  [25664/60000]\n",
            "loss: 1.658124  [32064/60000]\n",
            "loss: 1.687279  [38464/60000]\n",
            "loss: 1.581521  [44864/60000]\n",
            "loss: 1.602798  [51264/60000]\n",
            "loss: 1.500918  [57664/60000]\n",
            "Test Error: \n",
            " Accuracy: 59.5%, Avg loss: 1.514391 \n",
            "\n",
            "Epoch 4\n",
            "-------------------------------\n",
            "loss: 1.584558  [   64/60000]\n",
            "loss: 1.555142  [ 6464/60000]\n",
            "loss: 1.399996  [12864/60000]\n",
            "loss: 1.470736  [19264/60000]\n",
            "loss: 1.339437  [25664/60000]\n",
            "loss: 1.338315  [32064/60000]\n",
            "loss: 1.357578  [38464/60000]\n",
            "loss: 1.274702  [44864/60000]\n",
            "loss: 1.310794  [51264/60000]\n",
            "loss: 1.211750  [57664/60000]\n",
            "Test Error: \n",
            " Accuracy: 62.4%, Avg loss: 1.238483 \n",
            "\n",
            "Epoch 5\n",
            "-------------------------------\n",
            "loss: 1.321318  [   64/60000]\n",
            "loss: 1.305346  [ 6464/60000]\n",
            "loss: 1.137845  [12864/60000]\n",
            "loss: 1.243143  [19264/60000]\n",
            "loss: 1.107941  [25664/60000]\n",
            "loss: 1.137116  [32064/60000]\n",
            "loss: 1.163604  [38464/60000]\n",
            "loss: 1.092328  [44864/60000]\n",
            "loss: 1.134658  [51264/60000]\n",
            "loss: 1.052039  [57664/60000]\n",
            "Test Error: \n",
            " Accuracy: 64.1%, Avg loss: 1.074415 \n",
            "\n",
            "Epoch 6\n",
            "-------------------------------\n",
            "loss: 1.151522  [   64/60000]\n",
            "loss: 1.154321  [ 6464/60000]\n",
            "loss: 0.971003  [12864/60000]\n",
            "loss: 1.105748  [19264/60000]\n",
            "loss: 0.972300  [25664/60000]\n",
            "loss: 1.007376  [32064/60000]\n",
            "loss: 1.049972  [38464/60000]\n",
            "loss: 0.981564  [44864/60000]\n",
            "loss: 1.024479  [51264/60000]\n",
            "loss: 0.956131  [57664/60000]\n",
            "Test Error: \n",
            " Accuracy: 65.5%, Avg loss: 0.972401 \n",
            "\n",
            "Epoch 7\n",
            "-------------------------------\n",
            "loss: 1.038080  [   64/60000]\n",
            "loss: 1.059265  [ 6464/60000]\n",
            "loss: 0.860236  [12864/60000]\n",
            "loss: 1.016524  [19264/60000]\n",
            "loss: 0.889783  [25664/60000]\n",
            "loss: 0.917702  [32064/60000]\n",
            "loss: 0.977347  [38464/60000]\n",
            "loss: 0.911199  [44864/60000]\n",
            "loss: 0.950304  [51264/60000]\n",
            "loss: 0.892899  [57664/60000]\n",
            "Test Error: \n",
            " Accuracy: 66.7%, Avg loss: 0.904032 \n",
            "\n",
            "Epoch 8\n",
            "-------------------------------\n",
            "loss: 0.956190  [   64/60000]\n",
            "loss: 0.994170  [ 6464/60000]\n",
            "loss: 0.781846  [12864/60000]\n",
            "loss: 0.953581  [19264/60000]\n",
            "loss: 0.835118  [25664/60000]\n",
            "loss: 0.852167  [32064/60000]\n",
            "loss: 0.926526  [38464/60000]\n",
            "loss: 0.864222  [44864/60000]\n",
            "loss: 0.897140  [51264/60000]\n",
            "loss: 0.847204  [57664/60000]\n",
            "Test Error: \n",
            " Accuracy: 68.0%, Avg loss: 0.854880 \n",
            "\n",
            "Epoch 9\n",
            "-------------------------------\n",
            "loss: 0.893264  [   64/60000]\n",
            "loss: 0.945340  [ 6464/60000]\n",
            "loss: 0.723005  [12864/60000]\n",
            "loss: 0.906279  [19264/60000]\n",
            "loss: 0.796049  [25664/60000]\n",
            "loss: 0.802655  [32064/60000]\n",
            "loss: 0.887533  [38464/60000]\n",
            "loss: 0.830817  [44864/60000]\n",
            "loss: 0.857132  [51264/60000]\n",
            "loss: 0.811953  [57664/60000]\n",
            "Test Error: \n",
            " Accuracy: 69.0%, Avg loss: 0.817342 \n",
            "\n",
            "Epoch 10\n",
            "-------------------------------\n",
            "loss: 0.842270  [   64/60000]\n",
            "loss: 0.905924  [ 6464/60000]\n",
            "loss: 0.677085  [12864/60000]\n",
            "loss: 0.869362  [19264/60000]\n",
            "loss: 0.766258  [25664/60000]\n",
            "loss: 0.764185  [32064/60000]\n",
            "loss: 0.855594  [38464/60000]\n",
            "loss: 0.805532  [44864/60000]\n",
            "loss: 0.825692  [51264/60000]\n",
            "loss: 0.783336  [57664/60000]\n",
            "Test Error: \n",
            " Accuracy: 70.4%, Avg loss: 0.787210 \n",
            "\n",
            "Done!\n"
          ]
        }
      ]
    },
    {
      "cell_type": "markdown",
      "source": [
        "##Save and Load the Model\n",
        ""
      ],
      "metadata": {
        "id": "yWFJnsXU1LBh"
      }
    },
    {
      "cell_type": "markdown",
      "source": [
        "In this section we will look at how to persist model state with saving, loading and running model predictions.\n",
        "\n"
      ],
      "metadata": {
        "id": "yznrSeSJ1PKB"
      }
    },
    {
      "cell_type": "code",
      "source": [
        "import torch\n",
        "import torchvision.models as models"
      ],
      "metadata": {
        "id": "RaQtBnu51M1H"
      },
      "execution_count": 36,
      "outputs": []
    },
    {
      "cell_type": "markdown",
      "source": [
        "Saving and Loading Model Weights\n"
      ],
      "metadata": {
        "id": "kQlrNMfz1S5w"
      }
    },
    {
      "cell_type": "markdown",
      "source": [
        "PyTorch models store the learned parameters in an internal state dictionary, called state_dict. These can be persisted via the torch.save method:\n",
        "\n"
      ],
      "metadata": {
        "id": "Dri7oEhU1UMJ"
      }
    },
    {
      "cell_type": "code",
      "source": [
        "model = models.vgg16(weights='IMAGENET1K_V1')\n",
        "torch.save(model.state_dict(), 'model_weights.pth')\n"
      ],
      "metadata": {
        "colab": {
          "base_uri": "https://localhost:8080/"
        },
        "id": "u3VA6M6i1RX6",
        "outputId": "9f53e436-b36c-4d9c-f9ba-1e6229ca734e"
      },
      "execution_count": 37,
      "outputs": [
        {
          "output_type": "stream",
          "name": "stderr",
          "text": [
            "Downloading: \"https://download.pytorch.org/models/vgg16-397923af.pth\" to /root/.cache/torch/hub/checkpoints/vgg16-397923af.pth\n",
            "100%|██████████| 528M/528M [00:09<00:00, 61.0MB/s]\n"
          ]
        }
      ]
    },
    {
      "cell_type": "markdown",
      "source": [
        "To load model weights, you need to create an instance of the same model first, and then load the parameters using load_state_dict() method.\n",
        "\n",
        "In the code below, we set weights_only=True to limit the functions executed during unpickling to only those necessary for loading weights. Using weights_only=True is considered a best practice when loading weights."
      ],
      "metadata": {
        "id": "YPup-I3f1ZAg"
      }
    },
    {
      "cell_type": "code",
      "source": [
        "model = models.vgg16() # we do not specify ``weights``, i.e. create untrained model\n",
        "model.load_state_dict(torch.load('model_weights.pth', weights_only=True))\n",
        "model.eval()"
      ],
      "metadata": {
        "colab": {
          "base_uri": "https://localhost:8080/"
        },
        "id": "bY2Z2W_b1V5J",
        "outputId": "46014054-84c5-489d-8ba1-fc51b7aba9b4"
      },
      "execution_count": 38,
      "outputs": [
        {
          "output_type": "execute_result",
          "data": {
            "text/plain": [
              "VGG(\n",
              "  (features): Sequential(\n",
              "    (0): Conv2d(3, 64, kernel_size=(3, 3), stride=(1, 1), padding=(1, 1))\n",
              "    (1): ReLU(inplace=True)\n",
              "    (2): Conv2d(64, 64, kernel_size=(3, 3), stride=(1, 1), padding=(1, 1))\n",
              "    (3): ReLU(inplace=True)\n",
              "    (4): MaxPool2d(kernel_size=2, stride=2, padding=0, dilation=1, ceil_mode=False)\n",
              "    (5): Conv2d(64, 128, kernel_size=(3, 3), stride=(1, 1), padding=(1, 1))\n",
              "    (6): ReLU(inplace=True)\n",
              "    (7): Conv2d(128, 128, kernel_size=(3, 3), stride=(1, 1), padding=(1, 1))\n",
              "    (8): ReLU(inplace=True)\n",
              "    (9): MaxPool2d(kernel_size=2, stride=2, padding=0, dilation=1, ceil_mode=False)\n",
              "    (10): Conv2d(128, 256, kernel_size=(3, 3), stride=(1, 1), padding=(1, 1))\n",
              "    (11): ReLU(inplace=True)\n",
              "    (12): Conv2d(256, 256, kernel_size=(3, 3), stride=(1, 1), padding=(1, 1))\n",
              "    (13): ReLU(inplace=True)\n",
              "    (14): Conv2d(256, 256, kernel_size=(3, 3), stride=(1, 1), padding=(1, 1))\n",
              "    (15): ReLU(inplace=True)\n",
              "    (16): MaxPool2d(kernel_size=2, stride=2, padding=0, dilation=1, ceil_mode=False)\n",
              "    (17): Conv2d(256, 512, kernel_size=(3, 3), stride=(1, 1), padding=(1, 1))\n",
              "    (18): ReLU(inplace=True)\n",
              "    (19): Conv2d(512, 512, kernel_size=(3, 3), stride=(1, 1), padding=(1, 1))\n",
              "    (20): ReLU(inplace=True)\n",
              "    (21): Conv2d(512, 512, kernel_size=(3, 3), stride=(1, 1), padding=(1, 1))\n",
              "    (22): ReLU(inplace=True)\n",
              "    (23): MaxPool2d(kernel_size=2, stride=2, padding=0, dilation=1, ceil_mode=False)\n",
              "    (24): Conv2d(512, 512, kernel_size=(3, 3), stride=(1, 1), padding=(1, 1))\n",
              "    (25): ReLU(inplace=True)\n",
              "    (26): Conv2d(512, 512, kernel_size=(3, 3), stride=(1, 1), padding=(1, 1))\n",
              "    (27): ReLU(inplace=True)\n",
              "    (28): Conv2d(512, 512, kernel_size=(3, 3), stride=(1, 1), padding=(1, 1))\n",
              "    (29): ReLU(inplace=True)\n",
              "    (30): MaxPool2d(kernel_size=2, stride=2, padding=0, dilation=1, ceil_mode=False)\n",
              "  )\n",
              "  (avgpool): AdaptiveAvgPool2d(output_size=(7, 7))\n",
              "  (classifier): Sequential(\n",
              "    (0): Linear(in_features=25088, out_features=4096, bias=True)\n",
              "    (1): ReLU(inplace=True)\n",
              "    (2): Dropout(p=0.5, inplace=False)\n",
              "    (3): Linear(in_features=4096, out_features=4096, bias=True)\n",
              "    (4): ReLU(inplace=True)\n",
              "    (5): Dropout(p=0.5, inplace=False)\n",
              "    (6): Linear(in_features=4096, out_features=1000, bias=True)\n",
              "  )\n",
              ")"
            ]
          },
          "metadata": {},
          "execution_count": 38
        }
      ]
    },
    {
      "cell_type": "markdown",
      "source": [
        "## Saving and Loading Models with Shapes\n"
      ],
      "metadata": {
        "id": "Z86AwPT51faA"
      }
    },
    {
      "cell_type": "markdown",
      "source": [
        "When loading model weights, we needed to instantiate the model class first, because the class defines the structure of a network. We might want to save the structure of this class together with the model, in which case we can pass model (and not model.state_dict()) to the saving function"
      ],
      "metadata": {
        "id": "nEv2Ftok1i3C"
      }
    },
    {
      "cell_type": "code",
      "source": [
        "torch.save(model, 'model.pth')"
      ],
      "metadata": {
        "id": "v8C546S61cr4"
      },
      "execution_count": 39,
      "outputs": []
    },
    {
      "cell_type": "markdown",
      "source": [
        "As described in Saving and loading torch.nn.Modules, saving state_dict is considered the best practice. However, below we use weights_only=False because this involves loading the model, which is a legacy use case for torch.save."
      ],
      "metadata": {
        "id": "qx7_p26h1pHn"
      }
    },
    {
      "cell_type": "code",
      "source": [
        "model = torch.load('model.pth', weights_only=False),"
      ],
      "metadata": {
        "id": "6AXnZ_3u1miI"
      },
      "execution_count": 40,
      "outputs": []
    },
    {
      "cell_type": "code",
      "source": [],
      "metadata": {
        "id": "VQ-8qqWi1qw5"
      },
      "execution_count": null,
      "outputs": []
    }
  ]
}